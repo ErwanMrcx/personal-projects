{
 "cells": [
  {
   "cell_type": "code",
   "execution_count": 21,
   "id": "b8d2377d-dd12-4e04-8015-7cada08984aa",
   "metadata": {},
   "outputs": [],
   "source": [
    "from kaggle.api.kaggle_api_extended import KaggleApi\n",
    "import pandas as pd\n",
    "import zipfile\n",
    "import os"
   ]
  },
  {
   "cell_type": "code",
   "execution_count": 23,
   "id": "81fe67d4-b437-4d1a-9a1e-9c6e8c72aeeb",
   "metadata": {},
   "outputs": [],
   "source": [
    "api = KaggleApi()\n",
    "api.authenticate()\n",
    "\n",
    "def kaggle_load_data(data_kaggle):\n",
    "    api.dataset_download_files(data_kaggle, unzip=True)  \n",
    "            \n",
    "data = kaggle_load_data('uciml/mushroom-classification')"
   ]
  },
  {
   "cell_type": "code",
   "execution_count": null,
   "id": "2d812d5f-2614-45fb-80c1-2d2bc5ded4ad",
   "metadata": {},
   "outputs": [],
   "source": []
  }
 ],
 "metadata": {
  "kernelspec": {
   "display_name": "Python 3 (ipykernel)",
   "language": "python",
   "name": "python3"
  },
  "language_info": {
   "codemirror_mode": {
    "name": "ipython",
    "version": 3
   },
   "file_extension": ".py",
   "mimetype": "text/x-python",
   "name": "python",
   "nbconvert_exporter": "python",
   "pygments_lexer": "ipython3",
   "version": "3.11.4"
  }
 },
 "nbformat": 4,
 "nbformat_minor": 5
}
